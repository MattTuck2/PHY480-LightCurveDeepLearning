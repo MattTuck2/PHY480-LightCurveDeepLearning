{
 "cells": [
  {
   "cell_type": "code",
   "execution_count": 1,
   "metadata": {},
   "outputs": [],
   "source": [
    "import pandas as pd\n",
    "import glob"
   ]
  },
  {
   "cell_type": "markdown",
   "metadata": {},
   "source": [
    "### To split"
   ]
  },
  {
   "cell_type": "code",
   "execution_count": 4,
   "metadata": {},
   "outputs": [],
   "source": [
    "for i, chunk in enumerate(pd.read_csv('../data/lightcurves/nontransient_lightcurves.csv',chunksize=1100000)):\n",
    "    chunk.drop('Unnamed: 0',axis=1,inplace=True)\n",
    "    chunk.to_csv('../data/lightcurves/nontransient_lightcurves_{}.csv'.format(i),index=False)    "
   ]
  },
  {
   "cell_type": "code",
   "execution_count": 9,
   "metadata": {},
   "outputs": [
    {
     "name": "stdout",
     "output_type": "stream",
     "text": [
      "Index(['ID', 'MJD', 'Mag', 'Magerr', 'RA', 'Decl'], dtype='object')\n"
     ]
    },
    {
     "data": {
      "text/html": [
       "<div>\n",
       "<style scoped>\n",
       "    .dataframe tbody tr th:only-of-type {\n",
       "        vertical-align: middle;\n",
       "    }\n",
       "\n",
       "    .dataframe tbody tr th {\n",
       "        vertical-align: top;\n",
       "    }\n",
       "\n",
       "    .dataframe thead th {\n",
       "        text-align: right;\n",
       "    }\n",
       "</style>\n",
       "<table border=\"1\" class=\"dataframe\">\n",
       "  <thead>\n",
       "    <tr style=\"text-align: right;\">\n",
       "      <th></th>\n",
       "      <th>ID</th>\n",
       "      <th>MJD</th>\n",
       "      <th>Mag</th>\n",
       "      <th>Magerr</th>\n",
       "      <th>RA</th>\n",
       "      <th>Decl</th>\n",
       "    </tr>\n",
       "  </thead>\n",
       "  <tbody>\n",
       "    <tr>\n",
       "      <td>0</td>\n",
       "      <td>1.121012e+12</td>\n",
       "      <td>56251.16733</td>\n",
       "      <td>18.09</td>\n",
       "      <td>0.12</td>\n",
       "      <td>33.72388</td>\n",
       "      <td>19.89408</td>\n",
       "    </tr>\n",
       "    <tr>\n",
       "      <td>1</td>\n",
       "      <td>1.121012e+12</td>\n",
       "      <td>56251.17237</td>\n",
       "      <td>18.11</td>\n",
       "      <td>0.12</td>\n",
       "      <td>33.72390</td>\n",
       "      <td>19.89372</td>\n",
       "    </tr>\n",
       "    <tr>\n",
       "      <td>2</td>\n",
       "      <td>1.121012e+12</td>\n",
       "      <td>56251.17748</td>\n",
       "      <td>18.22</td>\n",
       "      <td>0.13</td>\n",
       "      <td>33.72389</td>\n",
       "      <td>19.89395</td>\n",
       "    </tr>\n",
       "    <tr>\n",
       "      <td>3</td>\n",
       "      <td>1.121012e+12</td>\n",
       "      <td>56251.18261</td>\n",
       "      <td>18.22</td>\n",
       "      <td>0.13</td>\n",
       "      <td>33.72386</td>\n",
       "      <td>19.89393</td>\n",
       "    </tr>\n",
       "    <tr>\n",
       "      <td>4</td>\n",
       "      <td>1.121012e+12</td>\n",
       "      <td>56263.11047</td>\n",
       "      <td>18.20</td>\n",
       "      <td>0.13</td>\n",
       "      <td>33.72382</td>\n",
       "      <td>19.89405</td>\n",
       "    </tr>\n",
       "    <tr>\n",
       "      <td>...</td>\n",
       "      <td>...</td>\n",
       "      <td>...</td>\n",
       "      <td>...</td>\n",
       "      <td>...</td>\n",
       "      <td>...</td>\n",
       "      <td>...</td>\n",
       "    </tr>\n",
       "    <tr>\n",
       "      <td>1099995</td>\n",
       "      <td>1.126003e+12</td>\n",
       "      <td>55851.29734</td>\n",
       "      <td>19.45</td>\n",
       "      <td>0.20</td>\n",
       "      <td>8.82765</td>\n",
       "      <td>26.78947</td>\n",
       "    </tr>\n",
       "    <tr>\n",
       "      <td>1099996</td>\n",
       "      <td>1.126003e+12</td>\n",
       "      <td>55851.31452</td>\n",
       "      <td>20.33</td>\n",
       "      <td>0.32</td>\n",
       "      <td>8.82780</td>\n",
       "      <td>26.78989</td>\n",
       "    </tr>\n",
       "    <tr>\n",
       "      <td>1099997</td>\n",
       "      <td>1.126003e+12</td>\n",
       "      <td>55889.23230</td>\n",
       "      <td>19.57</td>\n",
       "      <td>0.22</td>\n",
       "      <td>8.82739</td>\n",
       "      <td>26.78998</td>\n",
       "    </tr>\n",
       "    <tr>\n",
       "      <td>1099998</td>\n",
       "      <td>1.126003e+12</td>\n",
       "      <td>55889.24011</td>\n",
       "      <td>20.58</td>\n",
       "      <td>0.37</td>\n",
       "      <td>8.82771</td>\n",
       "      <td>26.79009</td>\n",
       "    </tr>\n",
       "    <tr>\n",
       "      <td>1099999</td>\n",
       "      <td>1.126003e+12</td>\n",
       "      <td>56186.43549</td>\n",
       "      <td>19.61</td>\n",
       "      <td>0.19</td>\n",
       "      <td>8.82740</td>\n",
       "      <td>26.79010</td>\n",
       "    </tr>\n",
       "  </tbody>\n",
       "</table>\n",
       "<p>1100000 rows × 6 columns</p>\n",
       "</div>"
      ],
      "text/plain": [
       "                   ID          MJD    Mag  Magerr        RA      Decl\n",
       "0        1.121012e+12  56251.16733  18.09    0.12  33.72388  19.89408\n",
       "1        1.121012e+12  56251.17237  18.11    0.12  33.72390  19.89372\n",
       "2        1.121012e+12  56251.17748  18.22    0.13  33.72389  19.89395\n",
       "3        1.121012e+12  56251.18261  18.22    0.13  33.72386  19.89393\n",
       "4        1.121012e+12  56263.11047  18.20    0.13  33.72382  19.89405\n",
       "...               ...          ...    ...     ...       ...       ...\n",
       "1099995  1.126003e+12  55851.29734  19.45    0.20   8.82765  26.78947\n",
       "1099996  1.126003e+12  55851.31452  20.33    0.32   8.82780  26.78989\n",
       "1099997  1.126003e+12  55889.23230  19.57    0.22   8.82739  26.78998\n",
       "1099998  1.126003e+12  55889.24011  20.58    0.37   8.82771  26.79009\n",
       "1099999  1.126003e+12  56186.43549  19.61    0.19   8.82740  26.79010\n",
       "\n",
       "[1100000 rows x 6 columns]"
      ]
     },
     "execution_count": 9,
     "metadata": {},
     "output_type": "execute_result"
    }
   ],
   "source": [
    "df = pd.read_csv('../data/lightcurves/nontransient_lightcurves_0.csv')\n",
    "print(df.keys())\n",
    "df"
   ]
  },
  {
   "cell_type": "markdown",
   "metadata": {},
   "source": [
    "### To join"
   ]
  },
  {
   "cell_type": "code",
   "execution_count": null,
   "metadata": {},
   "outputs": [],
   "source": [
    "base_filename = \"../data/lightcurves/nontransient_lightcurves\"\n",
    "filename_parts = glob.glob(base_filename+\"_*\")\n",
    "print(filename_parts)"
   ]
  },
  {
   "cell_type": "code",
   "execution_count": null,
   "metadata": {},
   "outputs": [],
   "source": [
    "df = pd.DataFrame()\n",
    "for i in filename_parts:\n",
    "    df_temp = pd.read_csv(i)\n",
    "    df = df.append(df_temp,ignore_index=True)\n",
    "df = df.drop(columns=['Unnamed: 0'])\n",
    "df.to_csv(base_filename+\".csv\")"
   ]
  },
  {
   "cell_type": "code",
   "execution_count": null,
   "metadata": {},
   "outputs": [],
   "source": [
    "pd.read_csv(base_filename+\".csv\").drop(columns=\"Unnamed: 0\")"
   ]
  },
  {
   "cell_type": "code",
   "execution_count": null,
   "metadata": {},
   "outputs": [],
   "source": []
  }
 ],
 "metadata": {
  "kernelspec": {
   "display_name": "Python 3",
   "language": "python",
   "name": "python3"
  }
 },
 "nbformat": 4,
 "nbformat_minor": 4
}
